{
  "nbformat": 4,
  "nbformat_minor": 0,
  "metadata": {
    "colab": {
      "name": "Tokenization using NLTK.ipynb",
      "provenance": [],
      "authorship_tag": "ABX9TyMZtBz8Xw4UDQT8B1Nbsqeo",
      "include_colab_link": true
    },
    "kernelspec": {
      "name": "python3",
      "display_name": "Python 3"
    },
    "language_info": {
      "name": "python"
    },
    "accelerator": "TPU"
  },
  "cells": [
    {
      "cell_type": "markdown",
      "metadata": {
        "id": "view-in-github",
        "colab_type": "text"
      },
      "source": [
        "<a href=\"https://colab.research.google.com/github/ZahraArshia/Tokenization/blob/main/Tokenization_using_NLTK.ipynb\" target=\"_parent\"><img src=\"https://colab.research.google.com/assets/colab-badge.svg\" alt=\"Open In Colab\"/></a>"
      ]
    },
    {
      "cell_type": "markdown",
      "source": [
        "**Word Tokenization:**"
      ],
      "metadata": {
        "id": "OE6inDuk8pBM"
      }
    },
    {
      "cell_type": "code",
      "execution_count": null,
      "metadata": {
        "id": "VzHtFRgl6KA_"
      },
      "outputs": [],
      "source": [
        "!pip install NLTK"
      ]
    },
    {
      "cell_type": "code",
      "source": [
        "import nltk\n",
        "nltk.download('punkt')"
      ],
      "metadata": {
        "id": "mbLySfdQ7WIg"
      },
      "execution_count": null,
      "outputs": []
    },
    {
      "cell_type": "code",
      "source": [
        "from nltk.tokenize import word_tokenize"
      ],
      "metadata": {
        "id": "IMDO5MXJ74df"
      },
      "execution_count": 3,
      "outputs": []
    },
    {
      "cell_type": "code",
      "source": [
        "english = \"Perl – The only language that looks the same before and after RSA encryption.\"\n",
        "persian = \"ما هم برای وصل کردن آمدیم! ولی برای پردازش، جدا بهتر نیست؟\""
      ],
      "metadata": {
        "id": "cCwLoZbG7-XM"
      },
      "execution_count": 7,
      "outputs": []
    },
    {
      "cell_type": "code",
      "source": [
        "print(word_tokenize(english))\n",
        "print(word_tokenize(persian))"
      ],
      "metadata": {
        "colab": {
          "base_uri": "https://localhost:8080/"
        },
        "id": "67A6bG7y8FKT",
        "outputId": "efa7fcac-aa7a-4213-bc61-a20aaaff4109"
      },
      "execution_count": 9,
      "outputs": [
        {
          "output_type": "stream",
          "name": "stdout",
          "text": [
            "['Perl', '–', 'The', 'only', 'language', 'that', 'looks', 'the', 'same', 'before', 'and', 'after', 'RSA', 'encryption', '.']\n",
            "['ما', 'هم', 'برای', 'وصل', 'کردن', 'آمدیم', '!', 'ولی', 'برای', 'پردازش،', 'جدا', 'بهتر', 'نیست؟']\n"
          ]
        }
      ]
    },
    {
      "cell_type": "markdown",
      "source": [
        "**Sentence Tokenization:**"
      ],
      "metadata": {
        "id": "YzsJIZ7Z8uDN"
      }
    },
    {
      "cell_type": "code",
      "source": [
        "from nltk.tokenize import sent_tokenize"
      ],
      "metadata": {
        "id": "1o_uA78K8xx8"
      },
      "execution_count": 10,
      "outputs": []
    },
    {
      "cell_type": "code",
      "source": [
        "sent_english = \"All men have stars, but they are not the same things for different people. For some, who are travelers, the stars are guides. For others they are no more than little lights in the sky. For others, who are scholars, they are problems... But all these stars are silent. You-You alone will have stars as no one else has them.\"\n",
        "sent_persian = \"همه ی مـردم ستـاره دارند امـا همـه ی ستـاره ها یک جور نیست: برای مسافران حکم راهنما را دارند. واسه بعضی دیگر فقط یک مشت نقطه ی نورانی هستند. برای آنهایی که اهل دانش هستند، هر ستاره یک معماست. واسه آن بابای تاجر، طلا بود. اما دوست من برای تو ستاره ها مفهوم دیگری خواهند داشت!\""
      ],
      "metadata": {
        "id": "j2UU9T3A9ArR"
      },
      "execution_count": 13,
      "outputs": []
    },
    {
      "cell_type": "code",
      "source": [
        "print(sent_tokenize(sent_english))\n",
        "print(sent_tokenize(sent_persian))"
      ],
      "metadata": {
        "colab": {
          "base_uri": "https://localhost:8080/"
        },
        "id": "kE3kvLAl-YqY",
        "outputId": "c507adb1-12cd-45b6-b427-c7497d265faa"
      },
      "execution_count": 14,
      "outputs": [
        {
          "output_type": "stream",
          "name": "stdout",
          "text": [
            "['All men have stars, but they are not the same things for different people.', 'For some, who are travelers, the stars are guides.', 'For others they are no more than little lights in the sky.', 'For others, who are scholars, they are problems...', 'But all these stars are silent.', 'You-You alone will have stars as no one else has them.']\n",
            "['همه ی مـردم ستـاره دارند امـا همـه ی ستـاره ها یک جور نیست: برای مسافران حکم راهنما را دارند.', 'واسه بعضی دیگر فقط یک مشت نقطه ی نورانی هستند.', 'برای آنهایی که اهل دانش هستند، هر ستاره یک معماست.', 'واسه آن بابای تاجر، طلا بود.', 'اما دوست من برای تو ستاره ها مفهوم دیگری خواهند داشت!']\n"
          ]
        }
      ]
    }
  ]
}