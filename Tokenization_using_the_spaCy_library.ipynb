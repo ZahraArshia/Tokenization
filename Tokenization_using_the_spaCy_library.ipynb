{
  "nbformat": 4,
  "nbformat_minor": 0,
  "metadata": {
    "colab": {
      "name": "Tokenization using the spaCy library.ipynb",
      "provenance": [],
      "authorship_tag": "ABX9TyN4aJpm2jvhBYWcyOymUYmc",
      "include_colab_link": true
    },
    "kernelspec": {
      "name": "python3",
      "display_name": "Python 3"
    },
    "language_info": {
      "name": "python"
    }
  },
  "cells": [
    {
      "cell_type": "markdown",
      "metadata": {
        "id": "view-in-github",
        "colab_type": "text"
      },
      "source": [
        "<a href=\"https://colab.research.google.com/github/ZahraArshia/Tokenization/blob/main/Tokenization_using_the_spaCy_library.ipynb\" target=\"_parent\"><img src=\"https://colab.research.google.com/assets/colab-badge.svg\" alt=\"Open In Colab\"/></a>"
      ]
    },
    {
      "cell_type": "markdown",
      "source": [
        "***Word Tokenization:***"
      ],
      "metadata": {
        "id": "TFYIwYYbNY7p"
      }
    },
    {
      "cell_type": "code",
      "execution_count": null,
      "metadata": {
        "id": "9y-XzaTwNXBo"
      },
      "outputs": [],
      "source": [
        "!pip install spacy"
      ]
    },
    {
      "cell_type": "markdown",
      "source": [
        "[install](https://spacy.io/usage)"
      ],
      "metadata": {
        "id": "-rXi7EG2Olzp"
      }
    },
    {
      "cell_type": "code",
      "source": [
        "from spacy.lang.en import English\n",
        "nlp = English()"
      ],
      "metadata": {
        "id": "HHyLNYeaOsl_"
      },
      "execution_count": 3,
      "outputs": []
    },
    {
      "cell_type": "markdown",
      "source": [
        "[Language support](https://spacy.io/usage/models#languages)"
      ],
      "metadata": {
        "id": "O7KR_jyeOw6x"
      }
    },
    {
      "cell_type": "code",
      "source": [
        "english = \"All men have stars, but they are not the same things for different people. For some, who are travelers, the stars are guides. For others they are no more than little lights in the sky. For others, who are scholars, they are problems... But all these stars are silent. You-You alone will have stars as no one else has them.\""
      ],
      "metadata": {
        "id": "iX6LObTjO2Ng"
      },
      "execution_count": 4,
      "outputs": []
    },
    {
      "cell_type": "code",
      "source": [
        "#  \"nlp\" Object is used to create documents with linguistic annotations.\n",
        "my_doc = nlp(english)\n",
        "\n",
        "# Create list of word tokens\n",
        "token_list = []\n",
        "for token in my_doc:\n",
        "    token_list.append(token.text)\n",
        "print(token_list)"
      ],
      "metadata": {
        "colab": {
          "base_uri": "https://localhost:8080/"
        },
        "id": "_fnNhvp0PDRN",
        "outputId": "6f43cd1b-352a-497d-ad3a-4cab6ed82368"
      },
      "execution_count": 7,
      "outputs": [
        {
          "output_type": "stream",
          "name": "stdout",
          "text": [
            "['All', 'men', 'have', 'stars', ',', 'but', 'they', 'are', 'not', 'the', 'same', 'things', 'for', 'different', 'people', '.', 'For', 'some', ',', 'who', 'are', 'travelers', ',', 'the', 'stars', 'are', 'guides', '.', 'For', 'others', 'they', 'are', 'no', 'more', 'than', 'little', 'lights', 'in', 'the', 'sky', '.', 'For', 'others', ',', 'who', 'are', 'scholars', ',', 'they', 'are', 'problems', '...', 'But', 'all', 'these', 'stars', 'are', 'silent', '.', 'You', '-', 'You', 'alone', 'will', 'have', 'stars', 'as', 'no', 'one', 'else', 'has', 'them', '.']\n"
          ]
        }
      ]
    },
    {
      "cell_type": "markdown",
      "source": [
        "**Sentence Tokenization:**"
      ],
      "metadata": {
        "id": "u5Jzh0EePToz"
      }
    },
    {
      "cell_type": "code",
      "source": [
        "from spacy.lang.en import English\n",
        "\n",
        "# Load English tokenizer, tagger, parser, NER and word vectors\n",
        "nlp = English()\n",
        "\n",
        "# Create the pipeline 'sentencizer' component\n",
        "sbd = nlp.create_pipe('sentencizer')\n",
        "\n",
        "# Add the component to the pipeline\n",
        "nlp.add_pipe(sbd)\n",
        "\n",
        "#  \"nlp\" Object is used to create documents with linguistic annotations.\n",
        "doc = nlp(english)\n",
        "\n",
        "# create list of sentence tokens\n",
        "sents_list = []\n",
        "for sent in doc.sents:\n",
        "    sents_list.append(sent.text)\n",
        "sents_list"
      ],
      "metadata": {
        "colab": {
          "base_uri": "https://localhost:8080/"
        },
        "id": "EWVHPJ3LPVRe",
        "outputId": "8f0120d6-5c6e-480c-fc7d-317d19035ffd"
      },
      "execution_count": 10,
      "outputs": [
        {
          "output_type": "execute_result",
          "data": {
            "text/plain": [
              "['All men have stars, but they are not the same things for different people.',\n",
              " 'For some, who are travelers, the stars are guides.',\n",
              " 'For others they are no more than little lights in the sky.',\n",
              " 'For others, who are scholars, they are problems... But all these stars are silent.',\n",
              " 'You-You alone will have stars as no one else has them.']"
            ]
          },
          "metadata": {},
          "execution_count": 10
        }
      ]
    }
  ]
}