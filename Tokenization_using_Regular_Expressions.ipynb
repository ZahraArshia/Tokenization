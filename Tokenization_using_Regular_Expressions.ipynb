{
  "nbformat": 4,
  "nbformat_minor": 0,
  "metadata": {
    "colab": {
      "name": "Tokenization using Regular Expressions.ipynb",
      "provenance": [],
      "authorship_tag": "ABX9TyOMghq+AO6VuMQtnLnpKoDE",
      "include_colab_link": true
    },
    "kernelspec": {
      "name": "python3",
      "display_name": "Python 3"
    },
    "language_info": {
      "name": "python"
    }
  },
  "cells": [
    {
      "cell_type": "markdown",
      "metadata": {
        "id": "view-in-github",
        "colab_type": "text"
      },
      "source": [
        "<a href=\"https://colab.research.google.com/github/ZahraArshia/Tokenization/blob/main/Tokenization_using_Regular_Expressions.ipynb\" target=\"_parent\"><img src=\"https://colab.research.google.com/assets/colab-badge.svg\" alt=\"Open In Colab\"/></a>"
      ]
    },
    {
      "cell_type": "markdown",
      "source": [
        "**Word Tokenization:**"
      ],
      "metadata": {
        "id": "yWF0t-iAHoJv"
      }
    },
    {
      "cell_type": "code",
      "execution_count": 1,
      "metadata": {
        "id": "TlwzERErHmS8"
      },
      "outputs": [],
      "source": [
        "import re"
      ]
    },
    {
      "cell_type": "code",
      "source": [
        "english = \"All men have stars, but they are not the same things for different people. For some, who are travelers, the stars are guides. For others they are no more than little lights in the sky. For others, who are scholars, they are problems... But all these stars are silent. You-You alone will have stars as no one else has them.\"\n",
        "persian = \"همه ی مـردم ستـاره دارند امـا همـه ی ستـاره ها یک جور نیست: برای مسافران حکم راهنما را دارند. واسه بعضی دیگر فقط یک مشت نقطه ی نورانی هستند. برای آنهایی که اهل دانش هستند، هر ستاره یک معماست. واسه آن بابای تاجر، طلا بود. اما دوست من برای تو ستاره ها مفهوم دیگری خواهند داشت!\""
      ],
      "metadata": {
        "id": "XvOEwKhuH9eV"
      },
      "execution_count": 2,
      "outputs": []
    },
    {
      "cell_type": "code",
      "source": [
        "print(re.findall(\"[\\w']+\", english))\n",
        "print(re.findall(\"[\\w']+\", persian))"
      ],
      "metadata": {
        "colab": {
          "base_uri": "https://localhost:8080/"
        },
        "id": "BeI-Z385IB7f",
        "outputId": "9133f23f-0f2f-4486-94ff-b4df423afae6"
      },
      "execution_count": 5,
      "outputs": [
        {
          "output_type": "stream",
          "name": "stdout",
          "text": [
            "['All', 'men', 'have', 'stars', 'but', 'they', 'are', 'not', 'the', 'same', 'things', 'for', 'different', 'people', 'For', 'some', 'who', 'are', 'travelers', 'the', 'stars', 'are', 'guides', 'For', 'others', 'they', 'are', 'no', 'more', 'than', 'little', 'lights', 'in', 'the', 'sky', 'For', 'others', 'who', 'are', 'scholars', 'they', 'are', 'problems', 'But', 'all', 'these', 'stars', 'are', 'silent', 'You', 'You', 'alone', 'will', 'have', 'stars', 'as', 'no', 'one', 'else', 'has', 'them']\n",
            "['همه', 'ی', 'مـردم', 'ستـاره', 'دارند', 'امـا', 'همـه', 'ی', 'ستـاره', 'ها', 'یک', 'جور', 'نیست', 'برای', 'مسافران', 'حکم', 'راهنما', 'را', 'دارند', 'واسه', 'بعضی', 'دیگر', 'فقط', 'یک', 'مشت', 'نقطه', 'ی', 'نورانی', 'هستند', 'برای', 'آنهایی', 'که', 'اهل', 'دانش', 'هستند', 'هر', 'ستاره', 'یک', 'معماست', 'واسه', 'آن', 'بابای', 'تاجر', 'طلا', 'بود', 'اما', 'دوست', 'من', 'برای', 'تو', 'ستاره', 'ها', 'مفهوم', 'دیگری', 'خواهند', 'داشت']\n"
          ]
        }
      ]
    },
    {
      "cell_type": "markdown",
      "source": [
        "**Sentence Tokenization:**"
      ],
      "metadata": {
        "id": "OQ0yXDo6IL9o"
      }
    },
    {
      "cell_type": "code",
      "source": [
        "english_sentences = re.compile('[.!?] ').split(english)\n",
        "persian_sentences = re.compile('[.!?] ').split(persian)"
      ],
      "metadata": {
        "id": "klX4xKy4IU-2"
      },
      "execution_count": 11,
      "outputs": []
    },
    {
      "cell_type": "code",
      "source": [
        "print(english_sentences)\n",
        "print(persian_sentences)"
      ],
      "metadata": {
        "colab": {
          "base_uri": "https://localhost:8080/"
        },
        "id": "jgAz9lfkIldD",
        "outputId": "0d52cdc7-d2c8-41fc-9948-8ad217b7b959"
      },
      "execution_count": 12,
      "outputs": [
        {
          "output_type": "stream",
          "name": "stdout",
          "text": [
            "['All men have stars, but they are not the same things for different people', 'For some, who are travelers, the stars are guides', 'For others they are no more than little lights in the sky', 'For others, who are scholars, they are problems..', 'But all these stars are silent', 'You-You alone will have stars as no one else has them.']\n",
            "['همه ی مـردم ستـاره دارند امـا همـه ی ستـاره ها یک جور نیست: برای مسافران حکم راهنما را دارند', 'واسه بعضی دیگر فقط یک مشت نقطه ی نورانی هستند', 'برای آنهایی که اهل دانش هستند، هر ستاره یک معماست', 'واسه آن بابای تاجر، طلا بود', 'اما دوست من برای تو ستاره ها مفهوم دیگری خواهند داشت!']\n"
          ]
        }
      ]
    }
  ]
}