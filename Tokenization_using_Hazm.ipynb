{
  "nbformat": 4,
  "nbformat_minor": 0,
  "metadata": {
    "colab": {
      "name": "Tokenization using Hazm.ipynb",
      "provenance": [],
      "authorship_tag": "ABX9TyOISMtlkMQXAof56MvcYtps",
      "include_colab_link": true
    },
    "kernelspec": {
      "name": "python3",
      "display_name": "Python 3"
    },
    "language_info": {
      "name": "python"
    }
  },
  "cells": [
    {
      "cell_type": "markdown",
      "metadata": {
        "id": "view-in-github",
        "colab_type": "text"
      },
      "source": [
        "<a href=\"https://colab.research.google.com/github/ZahraArshia/Tokenization/blob/main/Tokenization_using_Hazm.ipynb\" target=\"_parent\"><img src=\"https://colab.research.google.com/assets/colab-badge.svg\" alt=\"Open In Colab\"/></a>"
      ]
    },
    {
      "cell_type": "markdown",
      "source": [
        "***Word Tokenization:***"
      ],
      "metadata": {
        "id": "frV9wnVbQYB-"
      }
    },
    {
      "cell_type": "code",
      "execution_count": null,
      "metadata": {
        "id": "fCDJY0w1QVLE"
      },
      "outputs": [],
      "source": [
        "! pip install hazm"
      ]
    },
    {
      "cell_type": "code",
      "source": [
        "from __future__ import unicode_literals\n",
        "from hazm import *"
      ],
      "metadata": {
        "id": "Qjrp1VwVQzm4"
      },
      "execution_count": 2,
      "outputs": []
    },
    {
      "cell_type": "code",
      "source": [
        "english = \"All men have stars, but they are not the same things for different people. For some, who are travelers, the stars are guides. For others they are no more than little lights in the sky. For others, who are scholars, they are problems... But all these stars are silent. You-You alone will have stars as no one else has them.\"\n",
        "persian = \"همه ی مـردم ستـاره دارند امـا همـه ی ستـاره ها یک جور نیست: برای مسافران حکم راهنما را دارند. واسه بعضی دیگر فقط یک مشت نقطه ی نورانی هستند. برای آنهایی که اهل دانش هستند، هر ستاره یک معماست. واسه آن بابای تاجر، طلا بود. اما دوست من برای تو ستاره ها مفهوم دیگری خواهند داشت!\""
      ],
      "metadata": {
        "id": "3U3Jd1WLQ2i8"
      },
      "execution_count": 3,
      "outputs": []
    },
    {
      "cell_type": "code",
      "source": [
        "print(word_tokenize(english))\n",
        "print(word_tokenize(persian))"
      ],
      "metadata": {
        "colab": {
          "base_uri": "https://localhost:8080/"
        },
        "id": "5w7_SroeRCyZ",
        "outputId": "825d63c9-8169-419f-ebd5-fcd76fb3f254"
      },
      "execution_count": 4,
      "outputs": [
        {
          "output_type": "stream",
          "name": "stdout",
          "text": [
            "['All', 'men', 'have', 'stars,', 'but', 'they', 'are', 'not', 'the', 'same', 'things', 'for', 'different', 'people', '.', 'For', 'some,', 'who', 'are', 'travelers,', 'the', 'stars', 'are', 'guides', '.', 'For', 'others', 'they', 'are', 'no', 'more', 'than', 'little', 'lights', 'in', 'the', 'sky', '.', 'For', 'others,', 'who', 'are', 'scholars,', 'they', 'are', 'problems', '.', '.', '.', 'But', 'all', 'these', 'stars', 'are', 'silent', '.', 'You-You', 'alone', 'will', 'have', 'stars', 'as', 'no', 'one', 'else', 'has', 'them', '.']\n",
            "['همه', 'ی', 'مـردم', 'ستـاره', 'دارند', 'امـا', 'همـه', 'ی', 'ستـاره', 'ها', 'یک', 'جور', 'نیست', ':', 'برای', 'مسافران', 'حکم', 'راهنما', 'را', 'دارند', '.', 'واسه', 'بعضی', 'دیگر', 'فقط', 'یک', 'مشت', 'نقطه', 'ی', 'نورانی', 'هستند', '.', 'برای', 'آنهایی', 'که', 'اهل', 'دانش', 'هستند', '،', 'هر', 'ستاره', 'یک', 'معماست', '.', 'واسه', 'آن', 'بابای', 'تاجر', '،', 'طلا', 'بود', '.', 'اما', 'دوست', 'من', 'برای', 'تو', 'ستاره', 'ها', 'مفهوم', 'دیگری', 'خواهند_داشت', '!']\n"
          ]
        }
      ]
    },
    {
      "cell_type": "markdown",
      "source": [
        "**Sentence Tokenization:**"
      ],
      "metadata": {
        "id": "-dW64l4zRJa-"
      }
    },
    {
      "cell_type": "code",
      "source": [
        "print(sent_tokenize(english))\n",
        "print(sent_tokenize(persian))"
      ],
      "metadata": {
        "colab": {
          "base_uri": "https://localhost:8080/"
        },
        "id": "WlJCAwLHRU1u",
        "outputId": "7e3ad1de-4792-4cf6-c062-4d7f62d1046a"
      },
      "execution_count": 5,
      "outputs": [
        {
          "output_type": "stream",
          "name": "stdout",
          "text": [
            "['All men have stars, but they are not the same things for different people.', 'For some, who are travelers, the stars are guides.', 'For others they are no more than little lights in the sky.', 'For others, who are scholars, they are problems...', 'But all these stars are silent.', 'You-You alone will have stars as no one else has them.']\n",
            "['همه ی مـردم ستـاره دارند امـا همـه ی ستـاره ها یک جور نیست: برای مسافران حکم راهنما را دارند.', 'واسه بعضی دیگر فقط یک مشت نقطه ی نورانی هستند.', 'برای آنهایی که اهل دانش هستند، هر ستاره یک معماست.', 'واسه آن بابای تاجر، طلا بود.', 'اما دوست من برای تو ستاره ها مفهوم دیگری خواهند داشت!']\n"
          ]
        }
      ]
    }
  ]
}