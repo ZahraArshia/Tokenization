{
  "nbformat": 4,
  "nbformat_minor": 0,
  "metadata": {
    "colab": {
      "name": "Tokenization using Keras.ipynb",
      "provenance": [],
      "authorship_tag": "ABX9TyOlzIVhEw4AKuFE4H7NAeSc",
      "include_colab_link": true
    },
    "kernelspec": {
      "name": "python3",
      "display_name": "Python 3"
    },
    "language_info": {
      "name": "python"
    }
  },
  "cells": [
    {
      "cell_type": "markdown",
      "metadata": {
        "id": "view-in-github",
        "colab_type": "text"
      },
      "source": [
        "<a href=\"https://colab.research.google.com/github/ZahraArshia/Tokenization/blob/main/Tokenization_using_Keras.ipynb\" target=\"_parent\"><img src=\"https://colab.research.google.com/assets/colab-badge.svg\" alt=\"Open In Colab\"/></a>"
      ]
    },
    {
      "cell_type": "markdown",
      "source": [
        "**Word Tokenization:**"
      ],
      "metadata": {
        "id": "Nw0x9vivDvO8"
      }
    },
    {
      "cell_type": "code",
      "source": [
        "!pip install Keras"
      ],
      "metadata": {
        "colab": {
          "base_uri": "https://localhost:8080/"
        },
        "id": "H3Bs0u7eEbmi",
        "outputId": "05942cdd-625a-4eef-89a0-2dfdb273ec0c"
      },
      "execution_count": 1,
      "outputs": [
        {
          "output_type": "stream",
          "name": "stdout",
          "text": [
            "Requirement already satisfied: Keras in /usr/local/lib/python3.7/dist-packages (2.8.0)\n"
          ]
        }
      ]
    },
    {
      "cell_type": "code",
      "execution_count": 2,
      "metadata": {
        "id": "jXJnF8hgDljO"
      },
      "outputs": [],
      "source": [
        "from keras.preprocessing.text import text_to_word_sequence"
      ]
    },
    {
      "cell_type": "code",
      "source": [
        "english = \"All men have stars, but they are not the same things for different people. For some, who are travelers, the stars are guides. For others they are no more than little lights in the sky. For others, who are scholars, they are problems... But all these stars are silent. You-You alone will have stars as no one else has them.\"\n",
        "persian = \"همه ی مـردم ستـاره دارند امـا همـه ی ستـاره ها یک جور نیست: برای مسافران حکم راهنما را دارند. واسه بعضی دیگر فقط یک مشت نقطه ی نورانی هستند. برای آنهایی که اهل دانش هستند، هر ستاره یک معماست. واسه آن بابای تاجر، طلا بود. اما دوست من برای تو ستاره ها مفهوم دیگری خواهند داشت!\""
      ],
      "metadata": {
        "id": "NmLxIeP_F77F"
      },
      "execution_count": 3,
      "outputs": []
    },
    {
      "cell_type": "code",
      "source": [
        "print(text_to_word_sequence(english))\n",
        "print(text_to_word_sequence(persian))"
      ],
      "metadata": {
        "colab": {
          "base_uri": "https://localhost:8080/"
        },
        "id": "ntFV98DpGCRD",
        "outputId": "552b1422-f572-4c25-bcea-ceb6cc0c2ffa"
      },
      "execution_count": 4,
      "outputs": [
        {
          "output_type": "stream",
          "name": "stdout",
          "text": [
            "['all', 'men', 'have', 'stars', 'but', 'they', 'are', 'not', 'the', 'same', 'things', 'for', 'different', 'people', 'for', 'some', 'who', 'are', 'travelers', 'the', 'stars', 'are', 'guides', 'for', 'others', 'they', 'are', 'no', 'more', 'than', 'little', 'lights', 'in', 'the', 'sky', 'for', 'others', 'who', 'are', 'scholars', 'they', 'are', 'problems', 'but', 'all', 'these', 'stars', 'are', 'silent', 'you', 'you', 'alone', 'will', 'have', 'stars', 'as', 'no', 'one', 'else', 'has', 'them']\n",
            "['همه', 'ی', 'مـردم', 'ستـاره', 'دارند', 'امـا', 'همـه', 'ی', 'ستـاره', 'ها', 'یک', 'جور', 'نیست', 'برای', 'مسافران', 'حکم', 'راهنما', 'را', 'دارند', 'واسه', 'بعضی', 'دیگر', 'فقط', 'یک', 'مشت', 'نقطه', 'ی', 'نورانی', 'هستند', 'برای', 'آنهایی', 'که', 'اهل', 'دانش', 'هستند،', 'هر', 'ستاره', 'یک', 'معماست', 'واسه', 'آن', 'بابای', 'تاجر،', 'طلا', 'بود', 'اما', 'دوست', 'من', 'برای', 'تو', 'ستاره', 'ها', 'مفهوم', 'دیگری', 'خواهند', 'داشت']\n"
          ]
        }
      ]
    },
    {
      "cell_type": "markdown",
      "source": [
        "**Sentence Tokenization:**"
      ],
      "metadata": {
        "id": "eQ-4URI0EagU"
      }
    },
    {
      "cell_type": "markdown",
      "source": [
        "[keras-text Documentation](https://raghakot.github.io/keras-text/keras_text.processing/#tokenizer)"
      ],
      "metadata": {
        "id": "wfdjMd4QGdw5"
      }
    }
  ]
}