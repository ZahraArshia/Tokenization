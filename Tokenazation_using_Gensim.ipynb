{
  "nbformat": 4,
  "nbformat_minor": 0,
  "metadata": {
    "colab": {
      "name": "Tokenazation using Gensim.ipynb",
      "provenance": [],
      "authorship_tag": "ABX9TyP8r3L7dPH9dZ2D5NmH13Kg",
      "include_colab_link": true
    },
    "kernelspec": {
      "name": "python3",
      "display_name": "Python 3"
    },
    "language_info": {
      "name": "python"
    }
  },
  "cells": [
    {
      "cell_type": "markdown",
      "metadata": {
        "id": "view-in-github",
        "colab_type": "text"
      },
      "source": [
        "<a href=\"https://colab.research.google.com/github/ZahraArshia/Tokenization/blob/main/Tokenazation_using_Gensim.ipynb\" target=\"_parent\"><img src=\"https://colab.research.google.com/assets/colab-badge.svg\" alt=\"Open In Colab\"/></a>"
      ]
    },
    {
      "cell_type": "markdown",
      "source": [
        "***Word Tokenization:***"
      ],
      "metadata": {
        "id": "QVn_9U4VBodo"
      }
    },
    {
      "cell_type": "code",
      "execution_count": 1,
      "metadata": {
        "id": "2LpPwMkm_jao"
      },
      "outputs": [],
      "source": [
        "from gensim.utils import tokenize"
      ]
    },
    {
      "cell_type": "code",
      "source": [
        "english = \"All men have stars, but they are not the same things for different people. For some, who are travelers, the stars are guides. For others they are no more than little lights in the sky. For others, who are scholars, they are problems... But all these stars are silent. You-You alone will have stars as no one else has them.\"\n",
        "persian = \"همه ی مـردم ستـاره دارند امـا همـه ی ستـاره ها یک جور نیست: برای مسافران حکم راهنما را دارند. واسه بعضی دیگر فقط یک مشت نقطه ی نورانی هستند. برای آنهایی که اهل دانش هستند، هر ستاره یک معماست. واسه آن بابای تاجر، طلا بود. اما دوست من برای تو ستاره ها مفهوم دیگری خواهند داشت!\""
      ],
      "metadata": {
        "id": "-UGZFPxiCGtW"
      },
      "execution_count": 2,
      "outputs": []
    },
    {
      "cell_type": "code",
      "source": [
        "print(list(tokenize(english)))\n",
        "print(list(tokenize(persian)))"
      ],
      "metadata": {
        "colab": {
          "base_uri": "https://localhost:8080/"
        },
        "id": "3gKZcJK0CTMB",
        "outputId": "43ab9445-ead4-4634-8b90-05fda6215a0c"
      },
      "execution_count": 3,
      "outputs": [
        {
          "output_type": "stream",
          "name": "stdout",
          "text": [
            "['All', 'men', 'have', 'stars', 'but', 'they', 'are', 'not', 'the', 'same', 'things', 'for', 'different', 'people', 'For', 'some', 'who', 'are', 'travelers', 'the', 'stars', 'are', 'guides', 'For', 'others', 'they', 'are', 'no', 'more', 'than', 'little', 'lights', 'in', 'the', 'sky', 'For', 'others', 'who', 'are', 'scholars', 'they', 'are', 'problems', 'But', 'all', 'these', 'stars', 'are', 'silent', 'You', 'You', 'alone', 'will', 'have', 'stars', 'as', 'no', 'one', 'else', 'has', 'them']\n",
            "['همه', 'ی', 'مـردم', 'ستـاره', 'دارند', 'امـا', 'همـه', 'ی', 'ستـاره', 'ها', 'یک', 'جور', 'نیست', 'برای', 'مسافران', 'حکم', 'راهنما', 'را', 'دارند', 'واسه', 'بعضی', 'دیگر', 'فقط', 'یک', 'مشت', 'نقطه', 'ی', 'نورانی', 'هستند', 'برای', 'آنهایی', 'که', 'اهل', 'دانش', 'هستند', 'هر', 'ستاره', 'یک', 'معماست', 'واسه', 'آن', 'بابای', 'تاجر', 'طلا', 'بود', 'اما', 'دوست', 'من', 'برای', 'تو', 'ستاره', 'ها', 'مفهوم', 'دیگری', 'خواهند', 'داشت']\n"
          ]
        }
      ]
    },
    {
      "cell_type": "markdown",
      "source": [
        "**Sentence Tokenization:**"
      ],
      "metadata": {
        "id": "J8DxoCp2CiOH"
      }
    },
    {
      "cell_type": "code",
      "source": [
        "from gensim.summarization.textcleaner import split_sentences"
      ],
      "metadata": {
        "id": "mL9sJQDyCo8R"
      },
      "execution_count": 4,
      "outputs": []
    },
    {
      "cell_type": "code",
      "source": [
        "split_sentences(english)"
      ],
      "metadata": {
        "colab": {
          "base_uri": "https://localhost:8080/"
        },
        "id": "gv2UhHU8DBOT",
        "outputId": "0cc34246-99d6-44ce-96a1-3f13e35ad69d"
      },
      "execution_count": 7,
      "outputs": [
        {
          "output_type": "execute_result",
          "data": {
            "text/plain": [
              "['All men have stars, but they are not the same things for different people.',\n",
              " 'For some, who are travelers, the stars are guides.',\n",
              " 'For others they are no more than little lights in the sky.',\n",
              " 'For others, who are scholars, they are problems...',\n",
              " 'But all these stars are silent.',\n",
              " 'You-You alone will have stars as no one else has them.']"
            ]
          },
          "metadata": {},
          "execution_count": 7
        }
      ]
    },
    {
      "cell_type": "code",
      "source": [
        "split_sentences(persian)"
      ],
      "metadata": {
        "colab": {
          "base_uri": "https://localhost:8080/"
        },
        "id": "VuqMBMM1DGDH",
        "outputId": "8cd8bdeb-9d02-4db7-9146-8d210f2b9f4d"
      },
      "execution_count": 6,
      "outputs": [
        {
          "output_type": "execute_result",
          "data": {
            "text/plain": [
              "['همه ی مـردم ستـاره دارند امـا همـه ی ستـاره ها یک جور نیست: برای مسافران حکم راهنما را دارند.',\n",
              " 'واسه بعضی دیگر فقط یک مشت نقطه ی نورانی هستند.',\n",
              " 'برای آنهایی که اهل دانش هستند، هر ستاره یک معماست.',\n",
              " 'واسه آن بابای تاجر، طلا بود.',\n",
              " 'اما دوست من برای تو ستاره ها مفهوم دیگری خواهند داشت!']"
            ]
          },
          "metadata": {},
          "execution_count": 6
        }
      ]
    }
  ]
}